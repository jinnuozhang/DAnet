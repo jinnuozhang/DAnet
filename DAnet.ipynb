{
 "cells": [
  {
   "cell_type": "code",
   "execution_count": 1,
   "id": "f57522ab",
   "metadata": {},
   "outputs": [],
   "source": [
    "import pandas as pd\n",
    "from sklearn.model_selection import train_test_split\n",
    "import numpy as np\n",
    "import keras\n",
    "from torch.utils.data import DataLoader,TensorDataset\n",
    "import matplotlib.pyplot as plt\n",
    "import xlsxwriter\n",
    "def savexlsx(data,name):\n",
    "    workbook=xlsxwriter.Workbook('{}.xlsx'.format(name))\n",
    "    worksheet=workbook.add_worksheet()\n",
    "    hang = data.shape[0]\n",
    "    lie = data.shape[1]\n",
    "    for col in range(int(hang)):\n",
    "        for row in range(int(lie)):\n",
    "            worksheet.write(col,row,data[col,row])\n",
    "    workbook.close()\n",
    "class LossHistory(keras.callbacks.Callback):\n",
    "    def on_train_begin(self, logs={}):\n",
    "        self.losses = {'batch':[], 'epoch':[]}\n",
    "        self.accuracy = {'batch':[], 'epoch':[]}\n",
    "        self.val_loss = {'batch':[], 'epoch':[]}\n",
    "        self.val_acc = {'batch':[], 'epoch':[]}\n",
    "\n",
    "    def on_batch_end(self, batch, logs={}):\n",
    "        self.losses['batch'].append(logs.get('loss'))\n",
    "        self.accuracy['batch'].append(logs.get('acc'))\n",
    "        self.val_loss['batch'].append(logs.get('val_loss'))\n",
    "        self.val_acc['batch'].append(logs.get('val_acc'))\n",
    "\n",
    "    def on_epoch_end(self, batch, logs={}):\n",
    "        self.losses['epoch'].append(logs.get('loss'))\n",
    "        self.accuracy['epoch'].append(logs.get('acc'))\n",
    "        self.val_loss['epoch'].append(logs.get('val_loss'))\n",
    "        self.val_acc['epoch'].append(logs.get('val_acc'))\n",
    "\n",
    "    def loss_plot(self, loss_type):\n",
    "        iters = range(len(self.losses[loss_type]))\n",
    "        plt.figure()\n",
    "        # acc\n",
    "        plt.plot(iters, self.accuracy[loss_type], 'r', label='train acc')\n",
    "        # loss\n",
    "        plt.plot(iters, self.losses[loss_type], 'g', label='train loss')\n",
    "        if loss_type == 'epoch':\n",
    "            # val_acc\n",
    "            plt.plot(iters, self.val_acc[loss_type], 'b', label='val acc')\n",
    "            # val_loss\n",
    "            plt.plot(iters, self.val_loss[loss_type], 'k', label='val loss')\n",
    "        plt.grid(True)\n",
    "        plt.xlabel(loss_type)\n",
    "        plt.ylabel('acc-loss')\n",
    "        plt.legend(loc=\"upper right\")\n",
    "        plt.show()"
   ]
  },
  {
   "cell_type": "markdown",
   "id": "246d2e1f",
   "metadata": {},
   "source": [
    "# 训练"
   ]
  },
  {
   "cell_type": "code",
   "execution_count": null,
   "id": "acquired-bandwidth",
   "metadata": {},
   "outputs": [],
   "source": [
    "dataset = pd.read_excel('光谱+面积.xlsx', header = None)"
   ]
  },
  {
   "cell_type": "code",
   "execution_count": null,
   "id": "accessible-stevens",
   "metadata": {},
   "outputs": [],
   "source": [
    "orignal_data = np.array(dataset)"
   ]
  },
  {
   "cell_type": "code",
   "execution_count": null,
   "id": "documented-spare",
   "metadata": {},
   "outputs": [],
   "source": [
    "orignal_data.shape"
   ]
  },
  {
   "cell_type": "code",
   "execution_count": null,
   "id": "continent-poison",
   "metadata": {},
   "outputs": [],
   "source": [
    "data = orignal_data[:,:473]"
   ]
  },
  {
   "cell_type": "code",
   "execution_count": null,
   "id": "flush-setting",
   "metadata": {},
   "outputs": [],
   "source": [
    "label1 = orignal_data[:,473]"
   ]
  },
  {
   "cell_type": "code",
   "execution_count": null,
   "id": "wicked-rough",
   "metadata": {},
   "outputs": [],
   "source": [
    "rank = []"
   ]
  },
  {
   "cell_type": "code",
   "execution_count": null,
   "id": "found-chambers",
   "metadata": {},
   "outputs": [],
   "source": [
    "for i in label1:\n",
    "    if i == 0:\n",
    "        rank.append(0)\n",
    "    elif 0 < i <= 25:\n",
    "        rank.append(1)\n",
    "    elif 25 < i <= 50:\n",
    "        rank.append(2)\n",
    "    elif 50 < i <= 75:\n",
    "        rank.append(3)\n",
    "    elif 75 < i <= 100:\n",
    "        rank.append(4)"
   ]
  },
  {
   "cell_type": "code",
   "execution_count": null,
   "id": "dated-auckland",
   "metadata": {},
   "outputs": [],
   "source": [
    "rank_labels = keras.utils.to_categorical(rank)  # 生成标签"
   ]
  },
  {
   "cell_type": "code",
   "execution_count": null,
   "id": "cloudy-interim",
   "metadata": {},
   "outputs": [],
   "source": [
    "label2 = orignal_data[:,474]"
   ]
  },
  {
   "cell_type": "code",
   "execution_count": null,
   "id": "c5f983f7",
   "metadata": {},
   "outputs": [],
   "source": [
    "#train_x, valid_x, train_y, valid_y = train_test_split(data, label2, test_size=0.1)"
   ]
  },
  {
   "cell_type": "code",
   "execution_count": null,
   "id": "turkish-murray",
   "metadata": {},
   "outputs": [],
   "source": [
    "#train_x, valid_x, train_y, valid_y = train_test_split(data, label2, test_size=0.1)"
   ]
  },
  {
   "cell_type": "code",
   "execution_count": null,
   "id": "c0a2aeb0",
   "metadata": {},
   "outputs": [],
   "source": [
    "train_x, valid_x, train_y, valid_y = train_test_split(data, rank_labels, test_size=0.1)"
   ]
  },
  {
   "cell_type": "markdown",
   "id": "7d08cf49",
   "metadata": {},
   "source": [
    "t_y = train_y.reshape(-1,1)\n",
    "v_y = valid_y.reshape(-1,1)"
   ]
  },
  {
   "cell_type": "markdown",
   "id": "25db9010",
   "metadata": {},
   "source": [
    "savexlsx(train_x,'train_x')\n",
    "savexlsx(valid_x,'valid_x')\n",
    "savexlsx(t_y,'train_y')\n",
    "savexlsx(v_y,'valid_y')"
   ]
  },
  {
   "cell_type": "code",
   "execution_count": null,
   "id": "202b9432",
   "metadata": {},
   "outputs": [],
   "source": [
    "savexlsx(train_x,'train_x')\n",
    "savexlsx(valid_x,'valid_x')\n",
    "savexlsx(train_y,'train_y')\n",
    "savexlsx(valid_y,'valid_y')"
   ]
  },
  {
   "cell_type": "code",
   "execution_count": null,
   "id": "bbb0c0e9",
   "metadata": {},
   "outputs": [],
   "source": [
    "from keras import regularizers\n",
    "from keras.layers import Reshape,Add,Multiply,merge,Input,Dense, Activation,Dense,Dropout,Flatten,BatchNormalization,Conv1D\n",
    "from keras.layers import MaxPooling1D,AveragePooling1D,LeakyReLU,GlobalAveragePooling1D\n",
    "from keras.models import Sequential,Model\n",
    "from keras.optimizers import Adam\n",
    "from keras.callbacks import ModelCheckpoint"
   ]
  },
  {
   "cell_type": "raw",
   "id": "mediterranean-yesterday",
   "metadata": {},
   "source": [
    "train_x = train_x.reshape(train_x.shape[0],train_x.shape[1],1)\n",
    "valid_x = valid_x.reshape(valid_x.shape[0],valid_x.shape[1],1)"
   ]
  },
  {
   "cell_type": "code",
   "execution_count": null,
   "id": "detected-consensus",
   "metadata": {},
   "outputs": [],
   "source": [
    "def Res_block(X,filters):\n",
    "    \n",
    "    F1,F2 = filters\n",
    " \n",
    "    X_shortcut = X\n",
    " \n",
    "    X = Conv1D(filters = F1, kernel_size = 1, strides = 1)(X)\n",
    "    X = Dropout(0.5)(X)\n",
    "    X = Activation('relu')(X)\n",
    "    X = Conv1D(filters = F2, kernel_size = 3, strides = 1, padding = 'same')(X)\n",
    "    \n",
    "    X_shortcut = Conv1D(F2, kernel_size = 1, strides = 1)(X_shortcut)\n",
    "    X = Add()([X, X_shortcut])\n",
    "    X = Activation('relu')(X)\n",
    " \n",
    "    return X"
   ]
  },
  {
   "cell_type": "code",
   "execution_count": null,
   "id": "external-blues",
   "metadata": {},
   "outputs": [],
   "source": [
    "def ResNet_new(input_shape = (473,), classes = 5):\n",
    " \n",
    "    X_input = Input(input_shape)\n",
    "    X1 = Dense(473, activation = 'relu', name = 'dense1')(X_input)\n",
    "    X1 = Dropout(0.5)(X1)\n",
    "    X1 = Dense(256, activation = 'relu', name = 'dense2')(X1)\n",
    "    X1 = Dropout(0.5)(X1)\n",
    "    X1 = Dense(473, name = 'dense3')(X1)\n",
    "    X = Multiply()([X1, X_input])\n",
    "    #X = X_input\n",
    "    X = Reshape((473, 1))(X)\n",
    "    #X = Reshape((473, 1))(X_input)\n",
    "    12\n",
    "    X = Res_block(X,filters=[256,128])\n",
    "    X = Res_block(X,filters=[64,32])\n",
    "    X = Res_block(X,filters=[32,16])\n",
    " \n",
    "    #X = GlobalAveragePooling1D(name='global_avg_pool')(X)\n",
    "    X = AveragePooling1D(3, name = 'avg_pool')(X)\n",
    "    X = Flatten()(X)\n",
    "    X = Dense(128, activation = 'relu')(X)\n",
    "    #X = Dropout(0.5)(X)\n",
    "    X = Dense(64, activation = 'relu')(X)\n",
    "    X = Dense(classes)(X)\n",
    "    model = Model(inputs = X_input, outputs = X, name = 'DINet')\n",
    "    return model"
   ]
  },
  {
   "cell_type": "code",
   "execution_count": null,
   "id": "swedish-metabolism",
   "metadata": {},
   "outputs": [],
   "source": [
    "model = ResNet_new()"
   ]
  },
  {
   "cell_type": "code",
   "execution_count": null,
   "id": "specified-confusion",
   "metadata": {
    "scrolled": true
   },
   "outputs": [],
   "source": [
    "model.summary()"
   ]
  },
  {
   "cell_type": "code",
   "execution_count": null,
   "id": "ae4dd5b0",
   "metadata": {},
   "outputs": [],
   "source": [
    "model.compile(loss='categorical_crossentropy', optimizer=Adam(lr=0.01), metrics=['accuracy'])  "
   ]
  },
  {
   "cell_type": "code",
   "execution_count": null,
   "id": "bf84cdf7",
   "metadata": {},
   "outputs": [],
   "source": [
    "history=LossHistory()"
   ]
  },
  {
   "cell_type": "raw",
   "id": "1c3de9d5",
   "metadata": {},
   "source": [
    "model_names = \"model_epoch:{epoch:02d}-val_loss:{val_loss:.4f}.hdf5\""
   ]
  },
  {
   "cell_type": "code",
   "execution_count": null,
   "id": "42388636",
   "metadata": {},
   "outputs": [],
   "source": [
    "model_names = \"model_epoch-val_loss.hdf5\""
   ]
  },
  {
   "cell_type": "markdown",
   "id": "321c6a53",
   "metadata": {},
   "source": [
    "save_model = ModelCheckpoint(filepath= model_names, monitor='val_loss', verbose=0, save_best_only=True, save_weights_only=False, mode='auto', period=1)"
   ]
  },
  {
   "cell_type": "code",
   "execution_count": null,
   "id": "48d30949",
   "metadata": {},
   "outputs": [],
   "source": [
    "save_model = ModelCheckpoint(filepath= model_names, monitor='val_accuracy', verbose=0, save_best_only=True, save_weights_only=False, mode='auto', period=1)"
   ]
  },
  {
   "cell_type": "code",
   "execution_count": null,
   "id": "b85848d6",
   "metadata": {
    "scrolled": true
   },
   "outputs": [],
   "source": [
    "record_h=model.fit(train_x, train_y, epochs=3000,batch_size=256, validation_data=(valid_x, valid_y), callbacks=[history,save_model])"
   ]
  },
  {
   "cell_type": "code",
   "execution_count": null,
   "id": "4ddbee4b",
   "metadata": {},
   "outputs": [],
   "source": [
    "plt.plot(record_h.history['loss'])\n",
    "plt.plot(record_h.history['val_loss'])\n",
    "plt.plot(record_h.history['accuracy'])\n",
    "plt.plot(record_h.history['val_accuracy'])\n",
    "plt.title(\"model loss and acc\")\n",
    "plt.ylabel(\"loss and acc\") \n",
    "plt.xlabel(\"epoch\")\n",
    "plt.legend([\"train\",\"test\",\"train_acc\",\"test_acc\"],loc=\"upper right\")\n",
    "plt.savefig(\"1.jpg\")\n",
    "plt.show()"
   ]
  },
  {
   "cell_type": "code",
   "execution_count": null,
   "id": "f83671c6",
   "metadata": {},
   "outputs": [],
   "source": [
    "loss = record_h.history['loss']\n",
    "val_loss = record_h.history['val_loss']\n",
    "acc = record_h.history['acc']\n",
    "val_acc = record_h.history['val_acc']"
   ]
  },
  {
   "cell_type": "code",
   "execution_count": null,
   "id": "b6448e0a",
   "metadata": {},
   "outputs": [],
   "source": [
    "log_data = np.stack((loss, val_loss, acc,val_acc), axis=1)"
   ]
  },
  {
   "cell_type": "code",
   "execution_count": null,
   "id": "b8bef815",
   "metadata": {},
   "outputs": [],
   "source": [
    "savexlsx(log_data,'log')"
   ]
  },
  {
   "cell_type": "markdown",
   "id": "6695ea5a",
   "metadata": {},
   "source": [
    "# 预测"
   ]
  },
  {
   "cell_type": "code",
   "execution_count": 2,
   "id": "patent-worry",
   "metadata": {},
   "outputs": [],
   "source": [
    "from keras.models import load_model"
   ]
  },
  {
   "cell_type": "code",
   "execution_count": 387,
   "id": "eight-musical",
   "metadata": {},
   "outputs": [],
   "source": [
    "model_p = load_model('model_epoch_120-val_loss_27.0025.hdf5')"
   ]
  },
  {
   "cell_type": "code",
   "execution_count": 388,
   "id": "fantastic-seafood",
   "metadata": {},
   "outputs": [],
   "source": [
    "#train_x1, test_x1, train_y1, test_y1 = train_test_split(data, label2, test_size=0.3)"
   ]
  },
  {
   "cell_type": "code",
   "execution_count": 389,
   "id": "e7b3984b",
   "metadata": {},
   "outputs": [],
   "source": [
    "testset = pd.read_excel('test_x.xlsx', header = None)"
   ]
  },
  {
   "cell_type": "code",
   "execution_count": 390,
   "id": "350d63a5",
   "metadata": {},
   "outputs": [],
   "source": [
    "testset = np.array(testset)"
   ]
  },
  {
   "cell_type": "code",
   "execution_count": 391,
   "id": "69c77b1d",
   "metadata": {},
   "outputs": [
    {
     "name": "stdout",
     "output_type": "stream",
     "text": [
      "WARNING:tensorflow:5 out of the last 13 calls to <function Model.make_predict_function.<locals>.predict_function at 0x00000274A62C90D0> triggered tf.function retracing. Tracing is expensive and the excessive number of tracings could be due to (1) creating @tf.function repeatedly in a loop, (2) passing tensors with different shapes, (3) passing Python objects instead of tensors. For (1), please define your @tf.function outside of the loop. For (2), @tf.function has experimental_relax_shapes=True option that relaxes argument shapes that can avoid unnecessary retracing. For (3), please refer to https://www.tensorflow.org/guide/function#controlling_retracing and https://www.tensorflow.org/api_docs/python/tf/function for  more details.\n"
     ]
    }
   ],
   "source": [
    "y3 = model_p.predict(testset)\n",
    "savexlsx(y3,'test_y_2')"
   ]
  },
  {
   "cell_type": "code",
   "execution_count": null,
   "id": "531846b0",
   "metadata": {},
   "outputs": [],
   "source": []
  },
  {
   "cell_type": "code",
   "execution_count": null,
   "id": "potential-dragon",
   "metadata": {},
   "outputs": [],
   "source": [
    "train_x1, test_x1, train_y1, test_y1 = train_test_split(data, label2, test_size=0.3)"
   ]
  },
  {
   "cell_type": "code",
   "execution_count": null,
   "id": "straight-rebel",
   "metadata": {},
   "outputs": [],
   "source": [
    "test_y1 = test_y1.reshape(-1,1)\n",
    "savexlsx(test_x1,'test_x')\n",
    "savexlsx(test_y1,'test_y')"
   ]
  },
  {
   "cell_type": "code",
   "execution_count": null,
   "id": "ffb86545",
   "metadata": {},
   "outputs": [],
   "source": [
    "y = model_p.predict(train_x)"
   ]
  },
  {
   "cell_type": "code",
   "execution_count": null,
   "id": "gorgeous-swift",
   "metadata": {},
   "outputs": [],
   "source": [
    "savexlsx(y,'train_y_2')"
   ]
  },
  {
   "cell_type": "code",
   "execution_count": null,
   "id": "ideal-guide",
   "metadata": {},
   "outputs": [],
   "source": [
    "y2 = model_p.predict(valid_x)"
   ]
  },
  {
   "cell_type": "code",
   "execution_count": null,
   "id": "particular-edwards",
   "metadata": {},
   "outputs": [],
   "source": [
    "savexlsx(y2,'valid_y_2')"
   ]
  },
  {
   "cell_type": "code",
   "execution_count": null,
   "id": "chinese-radio",
   "metadata": {},
   "outputs": [],
   "source": [
    "y3 = model_p.predict(test_x1)\n",
    "savexlsx(y3,'test_y_2')"
   ]
  },
  {
   "cell_type": "code",
   "execution_count": null,
   "id": "sublime-cargo",
   "metadata": {
    "scrolled": true
   },
   "outputs": [],
   "source": [
    "model_p.summary()"
   ]
  },
  {
   "cell_type": "code",
   "execution_count": null,
   "id": "express-announcement",
   "metadata": {},
   "outputs": [],
   "source": [
    "layer_name = 'dense3'\n",
    "intermediate_layer_model = Model(inputs=model_p.input,outputs=model_p.get_layer(layer_name).output)#创建的新模型\n",
    "output1 = intermediate_layer_model.predict(valid_x)\n",
    "output2 = intermediate_layer_model.predict(train_x)\n",
    "output3 = intermediate_layer_model.predict(test_x1)"
   ]
  },
  {
   "cell_type": "code",
   "execution_count": null,
   "id": "retained-democrat",
   "metadata": {},
   "outputs": [],
   "source": [
    "savexlsx(output1,'valid_attention_value')\n",
    "savexlsx(output2,'train_attention_value')\n",
    "savexlsx(output3,'test_attention_value')"
   ]
  },
  {
   "cell_type": "code",
   "execution_count": null,
   "id": "another-terminal",
   "metadata": {},
   "outputs": [],
   "source": [
    "layer_name = 'multiply_5'\n",
    "intermediate_layer_model = Model(inputs=model_p.input,outputs=model_p.get_layer(layer_name).output)#创建的新模型\n",
    "output4 = intermediate_layer_model.predict(valid_x)\n",
    "output5 = intermediate_layer_model.predict(train_x)\n",
    "output6 = intermediate_layer_model.predict(test_x1)"
   ]
  },
  {
   "cell_type": "code",
   "execution_count": null,
   "id": "separate-shock",
   "metadata": {},
   "outputs": [],
   "source": [
    "savexlsx(output4,'valid_attention_out')\n",
    "savexlsx(output5,'train_attention_out')\n",
    "savexlsx(output6,'test_attention_out')"
   ]
  },
  {
   "cell_type": "code",
   "execution_count": null,
   "id": "separate-arkansas",
   "metadata": {},
   "outputs": [],
   "source": []
  },
  {
   "cell_type": "code",
   "execution_count": null,
   "id": "executive-package",
   "metadata": {},
   "outputs": [],
   "source": []
  },
  {
   "cell_type": "code",
   "execution_count": null,
   "id": "first-leisure",
   "metadata": {},
   "outputs": [],
   "source": []
  },
  {
   "cell_type": "code",
   "execution_count": null,
   "id": "martial-cleanup",
   "metadata": {},
   "outputs": [],
   "source": []
  },
  {
   "cell_type": "code",
   "execution_count": null,
   "id": "northern-mother",
   "metadata": {},
   "outputs": [],
   "source": []
  },
  {
   "cell_type": "code",
   "execution_count": null,
   "id": "fresh-techno",
   "metadata": {},
   "outputs": [],
   "source": []
  },
  {
   "cell_type": "code",
   "execution_count": null,
   "id": "sharp-transition",
   "metadata": {},
   "outputs": [],
   "source": []
  },
  {
   "cell_type": "code",
   "execution_count": null,
   "id": "careful-acoustic",
   "metadata": {},
   "outputs": [],
   "source": []
  },
  {
   "cell_type": "code",
   "execution_count": null,
   "id": "limiting-protocol",
   "metadata": {},
   "outputs": [],
   "source": []
  },
  {
   "cell_type": "code",
   "execution_count": null,
   "id": "searching-sullivan",
   "metadata": {},
   "outputs": [],
   "source": []
  },
  {
   "cell_type": "code",
   "execution_count": null,
   "id": "automatic-fireplace",
   "metadata": {},
   "outputs": [],
   "source": []
  },
  {
   "cell_type": "code",
   "execution_count": null,
   "id": "modular-classroom",
   "metadata": {},
   "outputs": [],
   "source": []
  },
  {
   "cell_type": "code",
   "execution_count": null,
   "id": "accepting-glass",
   "metadata": {},
   "outputs": [],
   "source": []
  },
  {
   "cell_type": "raw",
   "id": "juvenile-fighter",
   "metadata": {},
   "source": [
    "from keras.layers import Input,Conv2D, MaxPooling2D,Flatten,Dense,Embedding,Lambda\n",
    "from keras.models import Model\n",
    "from keras import backend as K\n",
    "\n",
    "nb_classes = 100\n",
    "feature_size = 32\n",
    "\n",
    "input_image = Input(shape=(224,224,3))\n",
    "cnn = Conv2D(10, (2,2))(input_image)\n",
    "cnn = MaxPooling2D((2,2))(cnn)\n",
    "cnn = Flatten()(cnn)\n",
    "feature = Dense(feature_size, activation='relu')(cnn)\n",
    "predict = Dense(nb_classes, activation='softmax', name='softmax')(feature) #至此，得到一个常规的softmax分类模型\n",
    "\n",
    "input_target = Input(shape=(1,))\n",
    "centers = Embedding(nb_classes, feature_size)(input_target) #Embedding层用来存放中心\n",
    "l2_loss = Lambda(lambda x: K.sum(K.square(x[0]-x[1][:,0]), 1, keepdims=True), name='l2_loss')([feature,centers])\n",
    "\n",
    "model_train = Model(inputs=[input_image,input_target], outputs=[predict,l2_loss])\n",
    "model_train.compile(optimizer='adam', loss=['sparse_categorical_crossentropy',lambda y_true,y_pred: y_pred], loss_weights=[1.,0.2], metrics={'softmax':'accuracy'})\n",
    "\n",
    "model_predict = Model(inputs=input_image, outputs=predict)\n",
    "model_predict.compile(optimizer='adam', loss='sparse_categorical_crossentropy', metrics=['accuracy'])\n",
    "model_train.fit([train_images,train_targets], [train_targets,random_y], epochs=10)\n"
   ]
  }
 ],
 "metadata": {
  "kernelspec": {
   "display_name": "Python 3",
   "language": "python",
   "name": "python3"
  },
  "language_info": {
   "codemirror_mode": {
    "name": "ipython",
    "version": 3
   },
   "file_extension": ".py",
   "mimetype": "text/x-python",
   "name": "python",
   "nbconvert_exporter": "python",
   "pygments_lexer": "ipython3",
   "version": "3.8.8"
  }
 },
 "nbformat": 4,
 "nbformat_minor": 5
}
